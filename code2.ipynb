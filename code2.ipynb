{
 "cells": [
  {
   "attachments": {},
   "cell_type": "markdown",
   "metadata": {},
   "source": [
    "# Steps \n",
    "1. Read dataset\n",
    "2. Scale the data\n",
    "3. Create test and training sets\n",
    "4. Define the LSTM and forward method\n",
    "5. Train the model\n",
    "6. Evaluate the model"
   ]
  },
  {
   "cell_type": "code",
   "execution_count": 29,
   "metadata": {},
   "outputs": [],
   "source": [
    "import torch\n",
    "from torch import nn\n",
    "import matplotlib.pyplot as plt\n",
    "import pandas as pd\n",
    "from sklearn.preprocessing import MinMaxScaler\n",
    "import numpy as np\n",
    "from sklearn.metrics import mean_squared_error, mean_absolute_error"
   ]
  },
  {
   "cell_type": "code",
   "execution_count": 30,
   "metadata": {},
   "outputs": [
    {
     "data": {
      "text/html": [
       "<div>\n",
       "<style scoped>\n",
       "    .dataframe tbody tr th:only-of-type {\n",
       "        vertical-align: middle;\n",
       "    }\n",
       "\n",
       "    .dataframe tbody tr th {\n",
       "        vertical-align: top;\n",
       "    }\n",
       "\n",
       "    .dataframe thead th {\n",
       "        text-align: right;\n",
       "    }\n",
       "</style>\n",
       "<table border=\"1\" class=\"dataframe\">\n",
       "  <thead>\n",
       "    <tr style=\"text-align: right;\">\n",
       "      <th></th>\n",
       "      <th>Unnamed: 0</th>\n",
       "      <th>Date</th>\n",
       "      <th>Close</th>\n",
       "      <th>Volume</th>\n",
       "      <th>Open</th>\n",
       "      <th>High</th>\n",
       "      <th>Low</th>\n",
       "    </tr>\n",
       "  </thead>\n",
       "  <tbody>\n",
       "    <tr>\n",
       "      <th>0</th>\n",
       "      <td>0</td>\n",
       "      <td>2024-01-19</td>\n",
       "      <td>2029.3</td>\n",
       "      <td>166078.0</td>\n",
       "      <td>2027.4</td>\n",
       "      <td>2041.9</td>\n",
       "      <td>2022.2</td>\n",
       "    </tr>\n",
       "    <tr>\n",
       "      <th>1</th>\n",
       "      <td>1</td>\n",
       "      <td>2024-01-18</td>\n",
       "      <td>2021.6</td>\n",
       "      <td>167013.0</td>\n",
       "      <td>2009.1</td>\n",
       "      <td>2025.6</td>\n",
       "      <td>2007.7</td>\n",
       "    </tr>\n",
       "    <tr>\n",
       "      <th>2</th>\n",
       "      <td>2</td>\n",
       "      <td>2024-01-17</td>\n",
       "      <td>2006.5</td>\n",
       "      <td>245194.0</td>\n",
       "      <td>2031.7</td>\n",
       "      <td>2036.1</td>\n",
       "      <td>2004.6</td>\n",
       "    </tr>\n",
       "    <tr>\n",
       "      <th>3</th>\n",
       "      <td>3</td>\n",
       "      <td>2024-01-16</td>\n",
       "      <td>2030.2</td>\n",
       "      <td>277995.0</td>\n",
       "      <td>2053.4</td>\n",
       "      <td>2062.8</td>\n",
       "      <td>2027.6</td>\n",
       "    </tr>\n",
       "    <tr>\n",
       "      <th>4</th>\n",
       "      <td>4</td>\n",
       "      <td>2024-01-12</td>\n",
       "      <td>2051.6</td>\n",
       "      <td>250946.0</td>\n",
       "      <td>2033.2</td>\n",
       "      <td>2067.3</td>\n",
       "      <td>2033.1</td>\n",
       "    </tr>\n",
       "    <tr>\n",
       "      <th>...</th>\n",
       "      <td>...</td>\n",
       "      <td>...</td>\n",
       "      <td>...</td>\n",
       "      <td>...</td>\n",
       "      <td>...</td>\n",
       "      <td>...</td>\n",
       "      <td>...</td>\n",
       "    </tr>\n",
       "    <tr>\n",
       "      <th>2506</th>\n",
       "      <td>2528</td>\n",
       "      <td>2014-01-28</td>\n",
       "      <td>1250.5</td>\n",
       "      <td>81426.0</td>\n",
       "      <td>1254.9</td>\n",
       "      <td>1261.9</td>\n",
       "      <td>1248.0</td>\n",
       "    </tr>\n",
       "    <tr>\n",
       "      <th>2507</th>\n",
       "      <td>2529</td>\n",
       "      <td>2014-01-27</td>\n",
       "      <td>1263.5</td>\n",
       "      <td>63419.0</td>\n",
       "      <td>1269.9</td>\n",
       "      <td>1280.1</td>\n",
       "      <td>1252.0</td>\n",
       "    </tr>\n",
       "    <tr>\n",
       "      <th>2508</th>\n",
       "      <td>2530</td>\n",
       "      <td>2014-01-24</td>\n",
       "      <td>1264.5</td>\n",
       "      <td>34998.0</td>\n",
       "      <td>1264.3</td>\n",
       "      <td>1273.2</td>\n",
       "      <td>1256.9</td>\n",
       "    </tr>\n",
       "    <tr>\n",
       "      <th>2509</th>\n",
       "      <td>2531</td>\n",
       "      <td>2014-01-23</td>\n",
       "      <td>1262.5</td>\n",
       "      <td>41697.0</td>\n",
       "      <td>1235.1</td>\n",
       "      <td>1267.1</td>\n",
       "      <td>1230.8</td>\n",
       "    </tr>\n",
       "    <tr>\n",
       "      <th>2510</th>\n",
       "      <td>2532</td>\n",
       "      <td>2014-01-22</td>\n",
       "      <td>1238.6</td>\n",
       "      <td>80262.0</td>\n",
       "      <td>1240.5</td>\n",
       "      <td>1243.5</td>\n",
       "      <td>1235.5</td>\n",
       "    </tr>\n",
       "  </tbody>\n",
       "</table>\n",
       "<p>2511 rows × 7 columns</p>\n",
       "</div>"
      ],
      "text/plain": [
       "      Unnamed: 0        Date   Close    Volume    Open    High     Low\n",
       "0              0  2024-01-19  2029.3  166078.0  2027.4  2041.9  2022.2\n",
       "1              1  2024-01-18  2021.6  167013.0  2009.1  2025.6  2007.7\n",
       "2              2  2024-01-17  2006.5  245194.0  2031.7  2036.1  2004.6\n",
       "3              3  2024-01-16  2030.2  277995.0  2053.4  2062.8  2027.6\n",
       "4              4  2024-01-12  2051.6  250946.0  2033.2  2067.3  2033.1\n",
       "...          ...         ...     ...       ...     ...     ...     ...\n",
       "2506        2528  2014-01-28  1250.5   81426.0  1254.9  1261.9  1248.0\n",
       "2507        2529  2014-01-27  1263.5   63419.0  1269.9  1280.1  1252.0\n",
       "2508        2530  2014-01-24  1264.5   34998.0  1264.3  1273.2  1256.9\n",
       "2509        2531  2014-01-23  1262.5   41697.0  1235.1  1267.1  1230.8\n",
       "2510        2532  2014-01-22  1238.6   80262.0  1240.5  1243.5  1235.5\n",
       "\n",
       "[2511 rows x 7 columns]"
      ]
     },
     "execution_count": 30,
     "metadata": {},
     "output_type": "execute_result"
    }
   ],
   "source": [
    "df = pd.read_csv('https://cf-courses-data.s3.us.cloud-object-storage.appdomain.cloud/E92l5dmaQtjIeBdKEEtgUA/goldstock.csv')\n",
    "df"
   ]
  },
  {
   "cell_type": "code",
   "execution_count": 31,
   "metadata": {},
   "outputs": [
    {
     "name": "stdout",
     "output_type": "stream",
     "text": [
      "<class 'pandas.core.frame.DataFrame'>\n",
      "RangeIndex: 2511 entries, 0 to 2510\n",
      "Data columns (total 7 columns):\n",
      " #   Column      Non-Null Count  Dtype  \n",
      "---  ------      --------------  -----  \n",
      " 0   Unnamed: 0  2511 non-null   int64  \n",
      " 1   Date        2511 non-null   object \n",
      " 2   Close       2511 non-null   float64\n",
      " 3   Volume      2511 non-null   float64\n",
      " 4   Open        2511 non-null   float64\n",
      " 5   High        2511 non-null   float64\n",
      " 6   Low         2511 non-null   float64\n",
      "dtypes: float64(5), int64(1), object(1)\n",
      "memory usage: 137.4+ KB\n"
     ]
    }
   ],
   "source": [
    "df.info()"
   ]
  },
  {
   "cell_type": "code",
   "execution_count": 32,
   "metadata": {},
   "outputs": [
    {
     "data": {
      "text/html": [
       "<div>\n",
       "<style scoped>\n",
       "    .dataframe tbody tr th:only-of-type {\n",
       "        vertical-align: middle;\n",
       "    }\n",
       "\n",
       "    .dataframe tbody tr th {\n",
       "        vertical-align: top;\n",
       "    }\n",
       "\n",
       "    .dataframe thead th {\n",
       "        text-align: right;\n",
       "    }\n",
       "</style>\n",
       "<table border=\"1\" class=\"dataframe\">\n",
       "  <thead>\n",
       "    <tr style=\"text-align: right;\">\n",
       "      <th></th>\n",
       "      <th>Unnamed: 0</th>\n",
       "      <th>Date</th>\n",
       "      <th>Close</th>\n",
       "      <th>Volume</th>\n",
       "      <th>Open</th>\n",
       "      <th>High</th>\n",
       "      <th>Low</th>\n",
       "    </tr>\n",
       "  </thead>\n",
       "  <tbody>\n",
       "    <tr>\n",
       "      <th>2510</th>\n",
       "      <td>2532</td>\n",
       "      <td>2014-01-22</td>\n",
       "      <td>1238.6</td>\n",
       "      <td>80262.0</td>\n",
       "      <td>1240.5</td>\n",
       "      <td>1243.5</td>\n",
       "      <td>1235.5</td>\n",
       "    </tr>\n",
       "    <tr>\n",
       "      <th>2509</th>\n",
       "      <td>2531</td>\n",
       "      <td>2014-01-23</td>\n",
       "      <td>1262.5</td>\n",
       "      <td>41697.0</td>\n",
       "      <td>1235.1</td>\n",
       "      <td>1267.1</td>\n",
       "      <td>1230.8</td>\n",
       "    </tr>\n",
       "    <tr>\n",
       "      <th>2508</th>\n",
       "      <td>2530</td>\n",
       "      <td>2014-01-24</td>\n",
       "      <td>1264.5</td>\n",
       "      <td>34998.0</td>\n",
       "      <td>1264.3</td>\n",
       "      <td>1273.2</td>\n",
       "      <td>1256.9</td>\n",
       "    </tr>\n",
       "    <tr>\n",
       "      <th>2507</th>\n",
       "      <td>2529</td>\n",
       "      <td>2014-01-27</td>\n",
       "      <td>1263.5</td>\n",
       "      <td>63419.0</td>\n",
       "      <td>1269.9</td>\n",
       "      <td>1280.1</td>\n",
       "      <td>1252.0</td>\n",
       "    </tr>\n",
       "    <tr>\n",
       "      <th>2506</th>\n",
       "      <td>2528</td>\n",
       "      <td>2014-01-28</td>\n",
       "      <td>1250.5</td>\n",
       "      <td>81426.0</td>\n",
       "      <td>1254.9</td>\n",
       "      <td>1261.9</td>\n",
       "      <td>1248.0</td>\n",
       "    </tr>\n",
       "    <tr>\n",
       "      <th>...</th>\n",
       "      <td>...</td>\n",
       "      <td>...</td>\n",
       "      <td>...</td>\n",
       "      <td>...</td>\n",
       "      <td>...</td>\n",
       "      <td>...</td>\n",
       "      <td>...</td>\n",
       "    </tr>\n",
       "    <tr>\n",
       "      <th>4</th>\n",
       "      <td>4</td>\n",
       "      <td>2024-01-12</td>\n",
       "      <td>2051.6</td>\n",
       "      <td>250946.0</td>\n",
       "      <td>2033.2</td>\n",
       "      <td>2067.3</td>\n",
       "      <td>2033.1</td>\n",
       "    </tr>\n",
       "    <tr>\n",
       "      <th>3</th>\n",
       "      <td>3</td>\n",
       "      <td>2024-01-16</td>\n",
       "      <td>2030.2</td>\n",
       "      <td>277995.0</td>\n",
       "      <td>2053.4</td>\n",
       "      <td>2062.8</td>\n",
       "      <td>2027.6</td>\n",
       "    </tr>\n",
       "    <tr>\n",
       "      <th>2</th>\n",
       "      <td>2</td>\n",
       "      <td>2024-01-17</td>\n",
       "      <td>2006.5</td>\n",
       "      <td>245194.0</td>\n",
       "      <td>2031.7</td>\n",
       "      <td>2036.1</td>\n",
       "      <td>2004.6</td>\n",
       "    </tr>\n",
       "    <tr>\n",
       "      <th>1</th>\n",
       "      <td>1</td>\n",
       "      <td>2024-01-18</td>\n",
       "      <td>2021.6</td>\n",
       "      <td>167013.0</td>\n",
       "      <td>2009.1</td>\n",
       "      <td>2025.6</td>\n",
       "      <td>2007.7</td>\n",
       "    </tr>\n",
       "    <tr>\n",
       "      <th>0</th>\n",
       "      <td>0</td>\n",
       "      <td>2024-01-19</td>\n",
       "      <td>2029.3</td>\n",
       "      <td>166078.0</td>\n",
       "      <td>2027.4</td>\n",
       "      <td>2041.9</td>\n",
       "      <td>2022.2</td>\n",
       "    </tr>\n",
       "  </tbody>\n",
       "</table>\n",
       "<p>2511 rows × 7 columns</p>\n",
       "</div>"
      ],
      "text/plain": [
       "      Unnamed: 0        Date   Close    Volume    Open    High     Low\n",
       "2510        2532  2014-01-22  1238.6   80262.0  1240.5  1243.5  1235.5\n",
       "2509        2531  2014-01-23  1262.5   41697.0  1235.1  1267.1  1230.8\n",
       "2508        2530  2014-01-24  1264.5   34998.0  1264.3  1273.2  1256.9\n",
       "2507        2529  2014-01-27  1263.5   63419.0  1269.9  1280.1  1252.0\n",
       "2506        2528  2014-01-28  1250.5   81426.0  1254.9  1261.9  1248.0\n",
       "...          ...         ...     ...       ...     ...     ...     ...\n",
       "4              4  2024-01-12  2051.6  250946.0  2033.2  2067.3  2033.1\n",
       "3              3  2024-01-16  2030.2  277995.0  2053.4  2062.8  2027.6\n",
       "2              2  2024-01-17  2006.5  245194.0  2031.7  2036.1  2004.6\n",
       "1              1  2024-01-18  2021.6  167013.0  2009.1  2025.6  2007.7\n",
       "0              0  2024-01-19  2029.3  166078.0  2027.4  2041.9  2022.2\n",
       "\n",
       "[2511 rows x 7 columns]"
      ]
     },
     "execution_count": 32,
     "metadata": {},
     "output_type": "execute_result"
    }
   ],
   "source": [
    "df1 = df.sort_values(by=\"Date\")\n",
    "df1"
   ]
  },
  {
   "cell_type": "code",
   "execution_count": 33,
   "metadata": {},
   "outputs": [
    {
     "data": {
      "text/html": [
       "<div>\n",
       "<style scoped>\n",
       "    .dataframe tbody tr th:only-of-type {\n",
       "        vertical-align: middle;\n",
       "    }\n",
       "\n",
       "    .dataframe tbody tr th {\n",
       "        vertical-align: top;\n",
       "    }\n",
       "\n",
       "    .dataframe thead th {\n",
       "        text-align: right;\n",
       "    }\n",
       "</style>\n",
       "<table border=\"1\" class=\"dataframe\">\n",
       "  <thead>\n",
       "    <tr style=\"text-align: right;\">\n",
       "      <th></th>\n",
       "      <th>Close</th>\n",
       "      <th>Open</th>\n",
       "      <th>High</th>\n",
       "      <th>Low</th>\n",
       "    </tr>\n",
       "  </thead>\n",
       "  <tbody>\n",
       "    <tr>\n",
       "      <th>2510</th>\n",
       "      <td>1238.6</td>\n",
       "      <td>1240.5</td>\n",
       "      <td>1243.5</td>\n",
       "      <td>1235.5</td>\n",
       "    </tr>\n",
       "    <tr>\n",
       "      <th>2509</th>\n",
       "      <td>1262.5</td>\n",
       "      <td>1235.1</td>\n",
       "      <td>1267.1</td>\n",
       "      <td>1230.8</td>\n",
       "    </tr>\n",
       "    <tr>\n",
       "      <th>2508</th>\n",
       "      <td>1264.5</td>\n",
       "      <td>1264.3</td>\n",
       "      <td>1273.2</td>\n",
       "      <td>1256.9</td>\n",
       "    </tr>\n",
       "    <tr>\n",
       "      <th>2507</th>\n",
       "      <td>1263.5</td>\n",
       "      <td>1269.9</td>\n",
       "      <td>1280.1</td>\n",
       "      <td>1252.0</td>\n",
       "    </tr>\n",
       "    <tr>\n",
       "      <th>2506</th>\n",
       "      <td>1250.5</td>\n",
       "      <td>1254.9</td>\n",
       "      <td>1261.9</td>\n",
       "      <td>1248.0</td>\n",
       "    </tr>\n",
       "    <tr>\n",
       "      <th>...</th>\n",
       "      <td>...</td>\n",
       "      <td>...</td>\n",
       "      <td>...</td>\n",
       "      <td>...</td>\n",
       "    </tr>\n",
       "    <tr>\n",
       "      <th>4</th>\n",
       "      <td>2051.6</td>\n",
       "      <td>2033.2</td>\n",
       "      <td>2067.3</td>\n",
       "      <td>2033.1</td>\n",
       "    </tr>\n",
       "    <tr>\n",
       "      <th>3</th>\n",
       "      <td>2030.2</td>\n",
       "      <td>2053.4</td>\n",
       "      <td>2062.8</td>\n",
       "      <td>2027.6</td>\n",
       "    </tr>\n",
       "    <tr>\n",
       "      <th>2</th>\n",
       "      <td>2006.5</td>\n",
       "      <td>2031.7</td>\n",
       "      <td>2036.1</td>\n",
       "      <td>2004.6</td>\n",
       "    </tr>\n",
       "    <tr>\n",
       "      <th>1</th>\n",
       "      <td>2021.6</td>\n",
       "      <td>2009.1</td>\n",
       "      <td>2025.6</td>\n",
       "      <td>2007.7</td>\n",
       "    </tr>\n",
       "    <tr>\n",
       "      <th>0</th>\n",
       "      <td>2029.3</td>\n",
       "      <td>2027.4</td>\n",
       "      <td>2041.9</td>\n",
       "      <td>2022.2</td>\n",
       "    </tr>\n",
       "  </tbody>\n",
       "</table>\n",
       "<p>2511 rows × 4 columns</p>\n",
       "</div>"
      ],
      "text/plain": [
       "       Close    Open    High     Low\n",
       "2510  1238.6  1240.5  1243.5  1235.5\n",
       "2509  1262.5  1235.1  1267.1  1230.8\n",
       "2508  1264.5  1264.3  1273.2  1256.9\n",
       "2507  1263.5  1269.9  1280.1  1252.0\n",
       "2506  1250.5  1254.9  1261.9  1248.0\n",
       "...      ...     ...     ...     ...\n",
       "4     2051.6  2033.2  2067.3  2033.1\n",
       "3     2030.2  2053.4  2062.8  2027.6\n",
       "2     2006.5  2031.7  2036.1  2004.6\n",
       "1     2021.6  2009.1  2025.6  2007.7\n",
       "0     2029.3  2027.4  2041.9  2022.2\n",
       "\n",
       "[2511 rows x 4 columns]"
      ]
     },
     "execution_count": 33,
     "metadata": {},
     "output_type": "execute_result"
    }
   ],
   "source": [
    "df1 = df1[[\"Close\", \"Open\", \"High\", \"Low\"]]\n",
    "df1"
   ]
  },
  {
   "cell_type": "code",
   "execution_count": 34,
   "metadata": {},
   "outputs": [
    {
     "data": {
      "text/plain": [
       "array([[-0.63775755, -0.63754914, -0.65079672, -0.63058686],\n",
       "       [-0.59195017, -0.64790488, -0.60521487, -0.63972017],\n",
       "       [-0.58811691, -0.59190718, -0.59343312, -0.58900117],\n",
       "       ...,\n",
       "       [ 0.83402012,  0.87975837,  0.88005794,  0.86397202],\n",
       "       [ 0.86296119,  0.83641768,  0.85977789,  0.86999611],\n",
       "       [ 0.87771921,  0.87151213,  0.89126026,  0.89817334]])"
      ]
     },
     "execution_count": 34,
     "metadata": {},
     "output_type": "execute_result"
    }
   ],
   "source": [
    "scaller = MinMaxScaler(feature_range=(-1,1))\n",
    "gold_price = scaller.fit_transform(df1.values)\n",
    "gold_price"
   ]
  },
  {
   "cell_type": "code",
   "execution_count": 35,
   "metadata": {},
   "outputs": [
    {
     "name": "stdout",
     "output_type": "stream",
     "text": [
      "Length:  2511\n",
      "Size of data:  2504\n",
      "train size:  2484\n",
      "test size:  20\n"
     ]
    }
   ],
   "source": [
    "tw = 7\n",
    "\n",
    "def create_inout_seq(price, tw):\n",
    "    inout_seq = []\n",
    "    L = len(price)\n",
    "    print(\"Length: \", L)\n",
    "\n",
    "    for i in range(L-tw):\n",
    "        data_seq = price[i:i+tw]\n",
    "        data_label = price[i+tw:i+tw+1][0][3]\n",
    "        inout_seq.append((data_seq, data_label))\n",
    "\n",
    "    data = inout_seq\n",
    "    print('Size of data: ', len(data))\n",
    "\n",
    "    test_size = 20\n",
    "    train_size = len(data) - (test_size)\n",
    "    print(\"train size: \", train_size)\n",
    "    print(\"test size: \", test_size)\n",
    "\n",
    "    train = data[:train_size]\n",
    "    test = data[train_size:]\n",
    "    train = train[:-(tw-1)]\n",
    "    return train, test\n",
    "\n",
    "\n",
    "train, test = create_inout_seq(gold_price, tw)"
   ]
  },
  {
   "cell_type": "code",
   "execution_count": 36,
   "metadata": {},
   "outputs": [],
   "source": [
    "class LSTM(nn.Module):\n",
    "    def __init__(self, input_size=4, hidden_layer_size=100, output_size=1):\n",
    "        super().__init__()\n",
    "        self.hidden_layer_size = hidden_layer_size\n",
    "\n",
    "        self.lstm = nn.LSTM(input_size, hidden_layer_size)\n",
    "\n",
    "        self.linear = nn.Linear(hidden_layer_size, output_size)\n",
    "\n",
    "    def forward(self, input_seq):\n",
    "        hidden_cell = (torch.zeros(1,1,self.hidden_layer_size),\n",
    "                       torch.zeros(1,1,self.hidden_layer_size),\n",
    "                      )\n",
    "        lstm_out, hidden_cell = self.lstm(input_seq.view(len(input_seq), 1, -1), hidden_cell)\n",
    "        predictions = self.linear(lstm_out.view(len(input_seq), -1))\n",
    "        return predictions[-1]"
   ]
  },
  {
   "cell_type": "code",
   "execution_count": 37,
   "metadata": {},
   "outputs": [
    {
     "data": {
      "application/vnd.jupyter.widget-view+json": {
       "model_id": "45fdc5a3dd2f4bfa840828dfde446070",
       "version_major": 2,
       "version_minor": 0
      },
      "text/plain": [
       "  0%|          | 0/5 [00:00<?, ?it/s]"
      ]
     },
     "metadata": {},
     "output_type": "display_data"
    },
    {
     "data": {
      "application/vnd.jupyter.widget-view+json": {
       "model_id": "5668f93e208d4907bce513253b1d86d6",
       "version_major": 2,
       "version_minor": 0
      },
      "text/plain": [
       "  0%|          | 0/2478 [00:00<?, ?it/s]"
      ]
     },
     "metadata": {},
     "output_type": "display_data"
    },
    {
     "name": "stdout",
     "output_type": "stream",
     "text": [
      "epoch:   0 loss: 0.0038056965\n"
     ]
    },
    {
     "data": {
      "application/vnd.jupyter.widget-view+json": {
       "model_id": "68a571a17ce740c7b0bdbe65d4975836",
       "version_major": 2,
       "version_minor": 0
      },
      "text/plain": [
       "  0%|          | 0/2478 [00:00<?, ?it/s]"
      ]
     },
     "metadata": {},
     "output_type": "display_data"
    },
    {
     "name": "stdout",
     "output_type": "stream",
     "text": [
      "epoch:   1 loss: 0.0021145848\n"
     ]
    },
    {
     "data": {
      "application/vnd.jupyter.widget-view+json": {
       "model_id": "fa472609846e45b98ae4c17b4e999690",
       "version_major": 2,
       "version_minor": 0
      },
      "text/plain": [
       "  0%|          | 0/2478 [00:00<?, ?it/s]"
      ]
     },
     "metadata": {},
     "output_type": "display_data"
    },
    {
     "name": "stdout",
     "output_type": "stream",
     "text": [
      "epoch:   2 loss: 0.0014891527\n"
     ]
    },
    {
     "data": {
      "application/vnd.jupyter.widget-view+json": {
       "model_id": "95edcde97eac47a4866b9ab04b595c59",
       "version_major": 2,
       "version_minor": 0
      },
      "text/plain": [
       "  0%|          | 0/2478 [00:00<?, ?it/s]"
      ]
     },
     "metadata": {},
     "output_type": "display_data"
    },
    {
     "name": "stdout",
     "output_type": "stream",
     "text": [
      "epoch:   3 loss: 0.0012687078\n"
     ]
    },
    {
     "data": {
      "application/vnd.jupyter.widget-view+json": {
       "model_id": "73a9b997d0224532bd060d18570662a5",
       "version_major": 2,
       "version_minor": 0
      },
      "text/plain": [
       "  0%|          | 0/2478 [00:00<?, ?it/s]"
      ]
     },
     "metadata": {},
     "output_type": "display_data"
    },
    {
     "name": "stdout",
     "output_type": "stream",
     "text": [
      "epoch:   4 loss: 0.0010800382\n"
     ]
    }
   ],
   "source": [
    "model = LSTM()\n",
    "loss_fn = nn.MSELoss()\n",
    "optimizer = torch.optim.Adam(model.parameters(), lr=0.001)\n",
    "\n",
    "from tqdm.notebook import tqdm \n",
    "epoch = 5\n",
    "for i in tqdm(range(epoch)):\n",
    "    epoch_loss=0\n",
    "    for seq, labels in tqdm(train):\n",
    "        seq = torch.from_numpy(np.array(seq)).type(torch.FloatTensor)\n",
    "        labels = torch.from_numpy(np.array(labels)).type(torch.FloatTensor)\n",
    "\n",
    "        optimizer.zero_grad()\n",
    "\n",
    "        y_pred = model(seq)\n",
    "        \n",
    "        labels = labels.view(1)\n",
    "        \n",
    "        single_loss = loss_fn(y_pred, labels)\n",
    "        single_loss.backward()\n",
    "        optimizer.step()\n",
    "\n",
    "        epoch_loss += single_loss.item()\n",
    "\n",
    "    average_loss = epoch_loss / len(train)\n",
    "    print(f'epoch: {i:3} loss: {average_loss:.10f}')"
   ]
  },
  {
   "cell_type": "code",
   "execution_count": 38,
   "metadata": {},
   "outputs": [],
   "source": [
    "model.eval()\n",
    "actual, pred= [],[]\n",
    "\n",
    "for seq,labels in test:\n",
    "    seq = torch.from_numpy(np.array(seq)).type(torch.FloatTensor)\n",
    "    labels = torch.from_numpy(np.array(labels)).type(torch.FloatTensor)\n",
    "    actual.append(labels.item())\n",
    "    with torch.no_grad():\n",
    "        pred.append(model(seq).item())\n",
    "\n",
    "actual = np.array(actual)\n",
    "pred = np.array(pred)"
   ]
  },
  {
   "cell_type": "code",
   "execution_count": 39,
   "metadata": {},
   "outputs": [],
   "source": [
    "actual = torch.from_numpy(np.array(actual)).type(torch.Tensor)\n",
    "pred = torch.from_numpy(np.array(pred)).type(torch.Tensor)"
   ]
  },
  {
   "cell_type": "code",
   "execution_count": 40,
   "metadata": {},
   "outputs": [
    {
     "data": {
      "text/plain": [
       "array([[1571.35      , 1572.95      , 1580.45      , 2040.59999954],\n",
       "       [1571.35      , 1572.95      , 1580.45      , 2043.30001211],\n",
       "       [1571.35      , 1572.95      , 1580.45      , 2058.20000086],\n",
       "       [1571.35      , 1572.95      , 1580.45      , 2065.10000573],\n",
       "       [1571.35      , 1572.95      , 1580.45      , 2072.80001206],\n",
       "       [1571.35      , 1572.95      , 1580.45      , 2074.6       ],\n",
       "       [1571.35      , 1572.95      , 1580.45      , 2067.60000261],\n",
       "       [1571.35      , 1572.95      , 1580.45      , 2064.30000428],\n",
       "       [1571.35      , 1572.95      , 1580.45      , 2038.29998769],\n",
       "       [1571.35      , 1572.95      , 1580.45      , 2043.30001211],\n",
       "       [1571.35      , 1572.95      , 1580.45      , 2030.79999706],\n",
       "       [1571.35      , 1572.95      , 1580.45      , 2022.69999   ],\n",
       "       [1571.35      , 1572.95      , 1580.45      , 2031.90000672],\n",
       "       [1571.35      , 1572.95      , 1580.45      , 2025.89999582],\n",
       "       [1571.35      , 1572.95      , 1580.45      , 2017.29999552],\n",
       "       [1571.35      , 1572.95      , 1580.45      , 2033.1000089 ],\n",
       "       [1571.35      , 1572.95      , 1580.45      , 2027.59999124],\n",
       "       [1571.35      , 1572.95      , 1580.45      , 2004.59999543],\n",
       "       [1571.35      , 1572.95      , 1580.45      , 2007.70000874],\n",
       "       [1571.35      , 1572.95      , 1580.45      , 2022.19999676]])"
      ]
     },
     "execution_count": 40,
     "metadata": {},
     "output_type": "execute_result"
    }
   ],
   "source": [
    "actual_new = scaller.inverse_transform(np.c_[np.zeros(20), np.zeros(20),np.zeros(20), np.array(actual)])\n",
    "actual_new"
   ]
  },
  {
   "cell_type": "code",
   "execution_count": 41,
   "metadata": {},
   "outputs": [
    {
     "data": {
      "text/plain": [
       "array([[1571.35      , 1572.95      , 1580.45      , 2050.67979702],\n",
       "       [1571.35      , 1572.95      , 1580.45      , 2046.48416022],\n",
       "       [1571.35      , 1572.95      , 1580.45      , 2047.73320781],\n",
       "       [1571.35      , 1572.95      , 1580.45      , 2067.75710741],\n",
       "       [1571.35      , 1572.95      , 1580.45      , 2063.05101804],\n",
       "       [1571.35      , 1572.95      , 1580.45      , 2079.44282761],\n",
       "       [1571.35      , 1572.95      , 1580.45      , 2071.53467735],\n",
       "       [1571.35      , 1572.95      , 1580.45      , 2058.86544183],\n",
       "       [1571.35      , 1572.95      , 1580.45      , 2062.65408456],\n",
       "       [1571.35      , 1572.95      , 1580.45      , 2037.41167996],\n",
       "       [1571.35      , 1572.95      , 1580.45      , 2044.19500645],\n",
       "       [1571.35      , 1572.95      , 1580.45      , 2045.02411616],\n",
       "       [1571.35      , 1572.95      , 1580.45      , 2031.9356789 ],\n",
       "       [1571.35      , 1572.95      , 1580.45      , 2036.47530835],\n",
       "       [1571.35      , 1572.95      , 1580.45      , 2032.44579408],\n",
       "       [1571.35      , 1572.95      , 1580.45      , 2030.06747521],\n",
       "       [1571.35      , 1572.95      , 1580.45      , 2053.88130579],\n",
       "       [1571.35      , 1572.95      , 1580.45      , 2037.18783169],\n",
       "       [1571.35      , 1572.95      , 1580.45      , 2013.68864013],\n",
       "       [1571.35      , 1572.95      , 1580.45      , 2024.16303997]])"
      ]
     },
     "execution_count": 41,
     "metadata": {},
     "output_type": "execute_result"
    }
   ],
   "source": [
    "pred_new = scaller.inverse_transform(np.c_[np.zeros(20), np.zeros(20),np.zeros(20), np.array(pred)])\n",
    "pred_new"
   ]
  },
  {
   "cell_type": "code",
   "execution_count": 42,
   "metadata": {},
   "outputs": [
    {
     "data": {
      "text/plain": [
       "2.649007576256986"
      ]
     },
     "execution_count": 42,
     "metadata": {},
     "output_type": "execute_result"
    }
   ],
   "source": [
    "mae = mean_absolute_error(actual_new, pred_new)\n",
    "mae"
   ]
  },
  {
   "cell_type": "code",
   "execution_count": 43,
   "metadata": {},
   "outputs": [
    {
     "data": {
      "text/plain": [
       "6.928452415294566"
      ]
     },
     "execution_count": 43,
     "metadata": {},
     "output_type": "execute_result"
    }
   ],
   "source": [
    "rmse = np.sqrt(mean_squared_error(actual_new, pred_new))\n",
    "rmse"
   ]
  },
  {
   "cell_type": "code",
   "execution_count": 44,
   "metadata": {},
   "outputs": [
    {
     "data": {
      "image/png": "[encoded data removed]",
      "text/plain": [
       "<Figure size 640x480 with 1 Axes>"
      ]
     },
     "metadata": {},
     "output_type": "display_data"
    }
   ],
   "source": [
    "fig,ax = plt.subplots()\n",
    "\n",
    "ax.plot(actual_new[:,3], 'r-', label=\"Actual\")\n",
    "ax.plot(pred_new[:,3], 'c-', label=\"Predicted\")\n",
    "\n",
    "ax.set_ylabel(\"Gold Value (Dollars)\")\n",
    "\n",
    "ax.set_ylim(min(min(actual_new[:,3]), min(pred_new[:,3]))-5, max(max(actual_new[:,3]),max(pred_new[:,3]))+5)\n",
    "plt.xticks([])\n",
    "\n",
    "ax.legend(loc = 'upper right')\n",
    "plt.show()"
   ]
  },
  {
   "cell_type": "code",
   "execution_count": 45,
   "metadata": {},
   "outputs": [
    {
     "data": {
      "image/png": "[encoded data removed]",
      "text/plain": [
       "<Figure size 640x480 with 1 Axes>"
      ]
     },
     "metadata": {},
     "output_type": "display_data"
    }
   ],
   "source": [
    "difference = actual_new - pred_new\n",
    "\n",
    "fig = plt.figure()\n",
    "diffGraph = fig.add_axes([0,0,1,1])\n",
    "diffGraph.plot(difference[:,3], 'b')\n",
    "diffGraph.set_ylabel('Difference between predicted and actual stock value')\n",
    "plt.xticks()\n",
    "plt.show()"
   ]
  }
 ],
 "metadata": {
  "kernelspec": {
   "display_name": "Python 3",
   "language": "python",
   "name": "python3"
  },
  "language_info": {
   "codemirror_mode": {
    "name": "ipython",
    "version": 3
   },
   "file_extension": ".py",
   "mimetype": "text/x-python",
   "name": "python",
   "nbconvert_exporter": "python",
   "pygments_lexer": "ipython3",
   "version": "3.11.0"
  },
  "orig_nbformat": 4,
  "vscode": {
   "interpreter": {
    "hash": "bff555660f20edf410969a7cbd352436805194184a5a3b26f921586e913a8153"
   }
  }
 },
 "nbformat": 4,
 "nbformat_minor": 2
}
