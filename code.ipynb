{
 "cells": [
  {
   "attachments": {},
   "cell_type": "markdown",
   "metadata": {},
   "source": [
    "# Steps \n",
    "1. Read dataset\n",
    "2. Scale the data\n",
    "3. Create test and training sets\n",
    "4. Define the LSTM and forward method\n",
    "5. Train the model\n",
    "6. Evaluate the model"
   ]
  },
  {
   "cell_type": "code",
   "execution_count": 70,
   "metadata": {},
   "outputs": [],
   "source": [
    "import torch\n",
    "from torch import nn\n",
    "import matplotlib.pyplot as plt\n",
    "import pandas as pd\n",
    "from sklearn.preprocessing import MinMaxScaler\n",
    "import numpy as np\n",
    "from sklearn.metrics import mean_squared_error, mean_absolute_error"
   ]
  },
  {
   "cell_type": "code",
   "execution_count": 71,
   "metadata": {},
   "outputs": [],
   "source": [
    "df = pd.read_csv(\"https://cf-courses-data.s3.us.cloud-object-storage.appdomain.cloud/g5XM0-gTrOquyZcBxcJAfw/StockData.csv\")"
   ]
  },
  {
   "cell_type": "code",
   "execution_count": 72,
   "metadata": {},
   "outputs": [
    {
     "data": {
      "text/html": [
       "<div>\n",
       "<style scoped>\n",
       "    .dataframe tbody tr th:only-of-type {\n",
       "        vertical-align: middle;\n",
       "    }\n",
       "\n",
       "    .dataframe tbody tr th {\n",
       "        vertical-align: top;\n",
       "    }\n",
       "\n",
       "    .dataframe thead th {\n",
       "        text-align: right;\n",
       "    }\n",
       "</style>\n",
       "<table border=\"1\" class=\"dataframe\">\n",
       "  <thead>\n",
       "    <tr style=\"text-align: right;\">\n",
       "      <th></th>\n",
       "      <th>Unnamed: 0</th>\n",
       "      <th>Date</th>\n",
       "      <th>Open</th>\n",
       "      <th>High</th>\n",
       "      <th>Low</th>\n",
       "      <th>Close</th>\n",
       "    </tr>\n",
       "  </thead>\n",
       "  <tbody>\n",
       "    <tr>\n",
       "      <th>0</th>\n",
       "      <td>0</td>\n",
       "      <td>2018-03-27</td>\n",
       "      <td>173.68</td>\n",
       "      <td>175.15</td>\n",
       "      <td>166.92</td>\n",
       "      <td>168.340</td>\n",
       "    </tr>\n",
       "    <tr>\n",
       "      <th>1</th>\n",
       "      <td>1</td>\n",
       "      <td>2018-03-26</td>\n",
       "      <td>168.07</td>\n",
       "      <td>173.10</td>\n",
       "      <td>166.44</td>\n",
       "      <td>172.770</td>\n",
       "    </tr>\n",
       "    <tr>\n",
       "      <th>2</th>\n",
       "      <td>2</td>\n",
       "      <td>2018-03-23</td>\n",
       "      <td>168.39</td>\n",
       "      <td>169.92</td>\n",
       "      <td>164.94</td>\n",
       "      <td>164.940</td>\n",
       "    </tr>\n",
       "    <tr>\n",
       "      <th>3</th>\n",
       "      <td>3</td>\n",
       "      <td>2018-03-22</td>\n",
       "      <td>170.00</td>\n",
       "      <td>172.68</td>\n",
       "      <td>168.60</td>\n",
       "      <td>168.845</td>\n",
       "    </tr>\n",
       "    <tr>\n",
       "      <th>4</th>\n",
       "      <td>4</td>\n",
       "      <td>2018-03-21</td>\n",
       "      <td>175.04</td>\n",
       "      <td>175.09</td>\n",
       "      <td>171.26</td>\n",
       "      <td>171.270</td>\n",
       "    </tr>\n",
       "    <tr>\n",
       "      <th>...</th>\n",
       "      <td>...</td>\n",
       "      <td>...</td>\n",
       "      <td>...</td>\n",
       "      <td>...</td>\n",
       "      <td>...</td>\n",
       "      <td>...</td>\n",
       "    </tr>\n",
       "    <tr>\n",
       "      <th>9395</th>\n",
       "      <td>9395</td>\n",
       "      <td>1980-12-18</td>\n",
       "      <td>26.63</td>\n",
       "      <td>26.75</td>\n",
       "      <td>26.63</td>\n",
       "      <td>26.630</td>\n",
       "    </tr>\n",
       "    <tr>\n",
       "      <th>9396</th>\n",
       "      <td>9396</td>\n",
       "      <td>1980-12-17</td>\n",
       "      <td>25.87</td>\n",
       "      <td>26.00</td>\n",
       "      <td>25.87</td>\n",
       "      <td>25.870</td>\n",
       "    </tr>\n",
       "    <tr>\n",
       "      <th>9397</th>\n",
       "      <td>9397</td>\n",
       "      <td>1980-12-16</td>\n",
       "      <td>25.37</td>\n",
       "      <td>25.37</td>\n",
       "      <td>25.25</td>\n",
       "      <td>25.250</td>\n",
       "    </tr>\n",
       "    <tr>\n",
       "      <th>9398</th>\n",
       "      <td>9398</td>\n",
       "      <td>1980-12-15</td>\n",
       "      <td>27.38</td>\n",
       "      <td>27.38</td>\n",
       "      <td>27.25</td>\n",
       "      <td>27.250</td>\n",
       "    </tr>\n",
       "    <tr>\n",
       "      <th>9399</th>\n",
       "      <td>9399</td>\n",
       "      <td>1980-12-12</td>\n",
       "      <td>28.75</td>\n",
       "      <td>28.87</td>\n",
       "      <td>28.75</td>\n",
       "      <td>28.750</td>\n",
       "    </tr>\n",
       "  </tbody>\n",
       "</table>\n",
       "<p>9400 rows × 6 columns</p>\n",
       "</div>"
      ],
      "text/plain": [
       "      Unnamed: 0        Date    Open    High     Low    Close\n",
       "0              0  2018-03-27  173.68  175.15  166.92  168.340\n",
       "1              1  2018-03-26  168.07  173.10  166.44  172.770\n",
       "2              2  2018-03-23  168.39  169.92  164.94  164.940\n",
       "3              3  2018-03-22  170.00  172.68  168.60  168.845\n",
       "4              4  2018-03-21  175.04  175.09  171.26  171.270\n",
       "...          ...         ...     ...     ...     ...      ...\n",
       "9395        9395  1980-12-18   26.63   26.75   26.63   26.630\n",
       "9396        9396  1980-12-17   25.87   26.00   25.87   25.870\n",
       "9397        9397  1980-12-16   25.37   25.37   25.25   25.250\n",
       "9398        9398  1980-12-15   27.38   27.38   27.25   27.250\n",
       "9399        9399  1980-12-12   28.75   28.87   28.75   28.750\n",
       "\n",
       "[9400 rows x 6 columns]"
      ]
     },
     "execution_count": 72,
     "metadata": {},
     "output_type": "execute_result"
    }
   ],
   "source": [
    "df"
   ]
  },
  {
   "cell_type": "code",
   "execution_count": 73,
   "metadata": {},
   "outputs": [
    {
     "name": "stdout",
     "output_type": "stream",
     "text": [
      "<class 'pandas.core.frame.DataFrame'>\n",
      "RangeIndex: 9400 entries, 0 to 9399\n",
      "Data columns (total 6 columns):\n",
      " #   Column      Non-Null Count  Dtype         \n",
      "---  ------      --------------  -----         \n",
      " 0   Unnamed: 0  9400 non-null   int64         \n",
      " 1   Date        9400 non-null   datetime64[ns]\n",
      " 2   Open        9400 non-null   float64       \n",
      " 3   High        9400 non-null   float64       \n",
      " 4   Low         9400 non-null   float64       \n",
      " 5   Close       9400 non-null   float64       \n",
      "dtypes: datetime64[ns](1), float64(4), int64(1)\n",
      "memory usage: 440.8 KB\n",
      "None\n"
     ]
    }
   ],
   "source": [
    "stock_data = df\n",
    "stock_data[\"Date\"] = pd.to_datetime(df.Date)\n",
    "print(stock_data.info())"
   ]
  },
  {
   "cell_type": "code",
   "execution_count": 74,
   "metadata": {},
   "outputs": [
    {
     "data": {
      "text/html": [
       "<div>\n",
       "<style scoped>\n",
       "    .dataframe tbody tr th:only-of-type {\n",
       "        vertical-align: middle;\n",
       "    }\n",
       "\n",
       "    .dataframe tbody tr th {\n",
       "        vertical-align: top;\n",
       "    }\n",
       "\n",
       "    .dataframe thead th {\n",
       "        text-align: right;\n",
       "    }\n",
       "</style>\n",
       "<table border=\"1\" class=\"dataframe\">\n",
       "  <thead>\n",
       "    <tr style=\"text-align: right;\">\n",
       "      <th></th>\n",
       "      <th>Unnamed: 0</th>\n",
       "      <th>Date</th>\n",
       "      <th>Open</th>\n",
       "      <th>High</th>\n",
       "      <th>Low</th>\n",
       "      <th>Close</th>\n",
       "    </tr>\n",
       "  </thead>\n",
       "  <tbody>\n",
       "    <tr>\n",
       "      <th>0</th>\n",
       "      <td>0</td>\n",
       "      <td>2018-03-27</td>\n",
       "      <td>173.68</td>\n",
       "      <td>175.15</td>\n",
       "      <td>166.92</td>\n",
       "      <td>168.340</td>\n",
       "    </tr>\n",
       "    <tr>\n",
       "      <th>1</th>\n",
       "      <td>1</td>\n",
       "      <td>2018-03-26</td>\n",
       "      <td>168.07</td>\n",
       "      <td>173.10</td>\n",
       "      <td>166.44</td>\n",
       "      <td>172.770</td>\n",
       "    </tr>\n",
       "    <tr>\n",
       "      <th>2</th>\n",
       "      <td>2</td>\n",
       "      <td>2018-03-23</td>\n",
       "      <td>168.39</td>\n",
       "      <td>169.92</td>\n",
       "      <td>164.94</td>\n",
       "      <td>164.940</td>\n",
       "    </tr>\n",
       "    <tr>\n",
       "      <th>3</th>\n",
       "      <td>3</td>\n",
       "      <td>2018-03-22</td>\n",
       "      <td>170.00</td>\n",
       "      <td>172.68</td>\n",
       "      <td>168.60</td>\n",
       "      <td>168.845</td>\n",
       "    </tr>\n",
       "    <tr>\n",
       "      <th>4</th>\n",
       "      <td>4</td>\n",
       "      <td>2018-03-21</td>\n",
       "      <td>175.04</td>\n",
       "      <td>175.09</td>\n",
       "      <td>171.26</td>\n",
       "      <td>171.270</td>\n",
       "    </tr>\n",
       "    <tr>\n",
       "      <th>...</th>\n",
       "      <td>...</td>\n",
       "      <td>...</td>\n",
       "      <td>...</td>\n",
       "      <td>...</td>\n",
       "      <td>...</td>\n",
       "      <td>...</td>\n",
       "    </tr>\n",
       "    <tr>\n",
       "      <th>9395</th>\n",
       "      <td>9395</td>\n",
       "      <td>1980-12-18</td>\n",
       "      <td>26.63</td>\n",
       "      <td>26.75</td>\n",
       "      <td>26.63</td>\n",
       "      <td>26.630</td>\n",
       "    </tr>\n",
       "    <tr>\n",
       "      <th>9396</th>\n",
       "      <td>9396</td>\n",
       "      <td>1980-12-17</td>\n",
       "      <td>25.87</td>\n",
       "      <td>26.00</td>\n",
       "      <td>25.87</td>\n",
       "      <td>25.870</td>\n",
       "    </tr>\n",
       "    <tr>\n",
       "      <th>9397</th>\n",
       "      <td>9397</td>\n",
       "      <td>1980-12-16</td>\n",
       "      <td>25.37</td>\n",
       "      <td>25.37</td>\n",
       "      <td>25.25</td>\n",
       "      <td>25.250</td>\n",
       "    </tr>\n",
       "    <tr>\n",
       "      <th>9398</th>\n",
       "      <td>9398</td>\n",
       "      <td>1980-12-15</td>\n",
       "      <td>27.38</td>\n",
       "      <td>27.38</td>\n",
       "      <td>27.25</td>\n",
       "      <td>27.250</td>\n",
       "    </tr>\n",
       "    <tr>\n",
       "      <th>9399</th>\n",
       "      <td>9399</td>\n",
       "      <td>1980-12-12</td>\n",
       "      <td>28.75</td>\n",
       "      <td>28.87</td>\n",
       "      <td>28.75</td>\n",
       "      <td>28.750</td>\n",
       "    </tr>\n",
       "  </tbody>\n",
       "</table>\n",
       "<p>9400 rows × 6 columns</p>\n",
       "</div>"
      ],
      "text/plain": [
       "      Unnamed: 0       Date    Open    High     Low    Close\n",
       "0              0 2018-03-27  173.68  175.15  166.92  168.340\n",
       "1              1 2018-03-26  168.07  173.10  166.44  172.770\n",
       "2              2 2018-03-23  168.39  169.92  164.94  164.940\n",
       "3              3 2018-03-22  170.00  172.68  168.60  168.845\n",
       "4              4 2018-03-21  175.04  175.09  171.26  171.270\n",
       "...          ...        ...     ...     ...     ...      ...\n",
       "9395        9395 1980-12-18   26.63   26.75   26.63   26.630\n",
       "9396        9396 1980-12-17   25.87   26.00   25.87   25.870\n",
       "9397        9397 1980-12-16   25.37   25.37   25.25   25.250\n",
       "9398        9398 1980-12-15   27.38   27.38   27.25   27.250\n",
       "9399        9399 1980-12-12   28.75   28.87   28.75   28.750\n",
       "\n",
       "[9400 rows x 6 columns]"
      ]
     },
     "execution_count": 74,
     "metadata": {},
     "output_type": "execute_result"
    }
   ],
   "source": [
    "stock_data"
   ]
  },
  {
   "cell_type": "code",
   "execution_count": 75,
   "metadata": {},
   "outputs": [
    {
     "data": {
      "text/html": [
       "<div>\n",
       "<style scoped>\n",
       "    .dataframe tbody tr th:only-of-type {\n",
       "        vertical-align: middle;\n",
       "    }\n",
       "\n",
       "    .dataframe tbody tr th {\n",
       "        vertical-align: top;\n",
       "    }\n",
       "\n",
       "    .dataframe thead th {\n",
       "        text-align: right;\n",
       "    }\n",
       "</style>\n",
       "<table border=\"1\" class=\"dataframe\">\n",
       "  <thead>\n",
       "    <tr style=\"text-align: right;\">\n",
       "      <th></th>\n",
       "      <th>Unnamed: 0</th>\n",
       "      <th>Date</th>\n",
       "      <th>Open</th>\n",
       "      <th>High</th>\n",
       "      <th>Low</th>\n",
       "      <th>Close</th>\n",
       "    </tr>\n",
       "  </thead>\n",
       "  <tbody>\n",
       "    <tr>\n",
       "      <th>9399</th>\n",
       "      <td>9399</td>\n",
       "      <td>1980-12-12</td>\n",
       "      <td>28.75</td>\n",
       "      <td>28.87</td>\n",
       "      <td>28.75</td>\n",
       "      <td>28.750</td>\n",
       "    </tr>\n",
       "    <tr>\n",
       "      <th>9398</th>\n",
       "      <td>9398</td>\n",
       "      <td>1980-12-15</td>\n",
       "      <td>27.38</td>\n",
       "      <td>27.38</td>\n",
       "      <td>27.25</td>\n",
       "      <td>27.250</td>\n",
       "    </tr>\n",
       "    <tr>\n",
       "      <th>9397</th>\n",
       "      <td>9397</td>\n",
       "      <td>1980-12-16</td>\n",
       "      <td>25.37</td>\n",
       "      <td>25.37</td>\n",
       "      <td>25.25</td>\n",
       "      <td>25.250</td>\n",
       "    </tr>\n",
       "    <tr>\n",
       "      <th>9396</th>\n",
       "      <td>9396</td>\n",
       "      <td>1980-12-17</td>\n",
       "      <td>25.87</td>\n",
       "      <td>26.00</td>\n",
       "      <td>25.87</td>\n",
       "      <td>25.870</td>\n",
       "    </tr>\n",
       "    <tr>\n",
       "      <th>9395</th>\n",
       "      <td>9395</td>\n",
       "      <td>1980-12-18</td>\n",
       "      <td>26.63</td>\n",
       "      <td>26.75</td>\n",
       "      <td>26.63</td>\n",
       "      <td>26.630</td>\n",
       "    </tr>\n",
       "    <tr>\n",
       "      <th>...</th>\n",
       "      <td>...</td>\n",
       "      <td>...</td>\n",
       "      <td>...</td>\n",
       "      <td>...</td>\n",
       "      <td>...</td>\n",
       "      <td>...</td>\n",
       "    </tr>\n",
       "    <tr>\n",
       "      <th>4</th>\n",
       "      <td>4</td>\n",
       "      <td>2018-03-21</td>\n",
       "      <td>175.04</td>\n",
       "      <td>175.09</td>\n",
       "      <td>171.26</td>\n",
       "      <td>171.270</td>\n",
       "    </tr>\n",
       "    <tr>\n",
       "      <th>3</th>\n",
       "      <td>3</td>\n",
       "      <td>2018-03-22</td>\n",
       "      <td>170.00</td>\n",
       "      <td>172.68</td>\n",
       "      <td>168.60</td>\n",
       "      <td>168.845</td>\n",
       "    </tr>\n",
       "    <tr>\n",
       "      <th>2</th>\n",
       "      <td>2</td>\n",
       "      <td>2018-03-23</td>\n",
       "      <td>168.39</td>\n",
       "      <td>169.92</td>\n",
       "      <td>164.94</td>\n",
       "      <td>164.940</td>\n",
       "    </tr>\n",
       "    <tr>\n",
       "      <th>1</th>\n",
       "      <td>1</td>\n",
       "      <td>2018-03-26</td>\n",
       "      <td>168.07</td>\n",
       "      <td>173.10</td>\n",
       "      <td>166.44</td>\n",
       "      <td>172.770</td>\n",
       "    </tr>\n",
       "    <tr>\n",
       "      <th>0</th>\n",
       "      <td>0</td>\n",
       "      <td>2018-03-27</td>\n",
       "      <td>173.68</td>\n",
       "      <td>175.15</td>\n",
       "      <td>166.92</td>\n",
       "      <td>168.340</td>\n",
       "    </tr>\n",
       "  </tbody>\n",
       "</table>\n",
       "<p>9400 rows × 6 columns</p>\n",
       "</div>"
      ],
      "text/plain": [
       "      Unnamed: 0       Date    Open    High     Low    Close\n",
       "9399        9399 1980-12-12   28.75   28.87   28.75   28.750\n",
       "9398        9398 1980-12-15   27.38   27.38   27.25   27.250\n",
       "9397        9397 1980-12-16   25.37   25.37   25.25   25.250\n",
       "9396        9396 1980-12-17   25.87   26.00   25.87   25.870\n",
       "9395        9395 1980-12-18   26.63   26.75   26.63   26.630\n",
       "...          ...        ...     ...     ...     ...      ...\n",
       "4              4 2018-03-21  175.04  175.09  171.26  171.270\n",
       "3              3 2018-03-22  170.00  172.68  168.60  168.845\n",
       "2              2 2018-03-23  168.39  169.92  164.94  164.940\n",
       "1              1 2018-03-26  168.07  173.10  166.44  172.770\n",
       "0              0 2018-03-27  173.68  175.15  166.92  168.340\n",
       "\n",
       "[9400 rows x 6 columns]"
      ]
     },
     "execution_count": 75,
     "metadata": {},
     "output_type": "execute_result"
    }
   ],
   "source": [
    "stock_data = stock_data.sort_values(by=\"Date\")\n",
    "stock_data"
   ]
  },
  {
   "cell_type": "code",
   "execution_count": 76,
   "metadata": {},
   "outputs": [
    {
     "data": {
      "text/html": [
       "<div>\n",
       "<style scoped>\n",
       "    .dataframe tbody tr th:only-of-type {\n",
       "        vertical-align: middle;\n",
       "    }\n",
       "\n",
       "    .dataframe tbody tr th {\n",
       "        vertical-align: top;\n",
       "    }\n",
       "\n",
       "    .dataframe thead th {\n",
       "        text-align: right;\n",
       "    }\n",
       "</style>\n",
       "<table border=\"1\" class=\"dataframe\">\n",
       "  <thead>\n",
       "    <tr style=\"text-align: right;\">\n",
       "      <th></th>\n",
       "      <th>Open</th>\n",
       "      <th>High</th>\n",
       "      <th>Low</th>\n",
       "      <th>Close</th>\n",
       "    </tr>\n",
       "  </thead>\n",
       "  <tbody>\n",
       "    <tr>\n",
       "      <th>9399</th>\n",
       "      <td>28.75</td>\n",
       "      <td>28.87</td>\n",
       "      <td>28.75</td>\n",
       "      <td>28.750</td>\n",
       "    </tr>\n",
       "    <tr>\n",
       "      <th>9398</th>\n",
       "      <td>27.38</td>\n",
       "      <td>27.38</td>\n",
       "      <td>27.25</td>\n",
       "      <td>27.250</td>\n",
       "    </tr>\n",
       "    <tr>\n",
       "      <th>9397</th>\n",
       "      <td>25.37</td>\n",
       "      <td>25.37</td>\n",
       "      <td>25.25</td>\n",
       "      <td>25.250</td>\n",
       "    </tr>\n",
       "    <tr>\n",
       "      <th>9396</th>\n",
       "      <td>25.87</td>\n",
       "      <td>26.00</td>\n",
       "      <td>25.87</td>\n",
       "      <td>25.870</td>\n",
       "    </tr>\n",
       "    <tr>\n",
       "      <th>9395</th>\n",
       "      <td>26.63</td>\n",
       "      <td>26.75</td>\n",
       "      <td>26.63</td>\n",
       "      <td>26.630</td>\n",
       "    </tr>\n",
       "    <tr>\n",
       "      <th>...</th>\n",
       "      <td>...</td>\n",
       "      <td>...</td>\n",
       "      <td>...</td>\n",
       "      <td>...</td>\n",
       "    </tr>\n",
       "    <tr>\n",
       "      <th>4</th>\n",
       "      <td>175.04</td>\n",
       "      <td>175.09</td>\n",
       "      <td>171.26</td>\n",
       "      <td>171.270</td>\n",
       "    </tr>\n",
       "    <tr>\n",
       "      <th>3</th>\n",
       "      <td>170.00</td>\n",
       "      <td>172.68</td>\n",
       "      <td>168.60</td>\n",
       "      <td>168.845</td>\n",
       "    </tr>\n",
       "    <tr>\n",
       "      <th>2</th>\n",
       "      <td>168.39</td>\n",
       "      <td>169.92</td>\n",
       "      <td>164.94</td>\n",
       "      <td>164.940</td>\n",
       "    </tr>\n",
       "    <tr>\n",
       "      <th>1</th>\n",
       "      <td>168.07</td>\n",
       "      <td>173.10</td>\n",
       "      <td>166.44</td>\n",
       "      <td>172.770</td>\n",
       "    </tr>\n",
       "    <tr>\n",
       "      <th>0</th>\n",
       "      <td>173.68</td>\n",
       "      <td>175.15</td>\n",
       "      <td>166.92</td>\n",
       "      <td>168.340</td>\n",
       "    </tr>\n",
       "  </tbody>\n",
       "</table>\n",
       "<p>9400 rows × 4 columns</p>\n",
       "</div>"
      ],
      "text/plain": [
       "        Open    High     Low    Close\n",
       "9399   28.75   28.87   28.75   28.750\n",
       "9398   27.38   27.38   27.25   27.250\n",
       "9397   25.37   25.37   25.25   25.250\n",
       "9396   25.87   26.00   25.87   25.870\n",
       "9395   26.63   26.75   26.63   26.630\n",
       "...      ...     ...     ...      ...\n",
       "4     175.04  175.09  171.26  171.270\n",
       "3     170.00  172.68  168.60  168.845\n",
       "2     168.39  169.92  164.94  164.940\n",
       "1     168.07  173.10  166.44  172.770\n",
       "0     173.68  175.15  166.92  168.340\n",
       "\n",
       "[9400 rows x 4 columns]"
      ]
     },
     "execution_count": 76,
     "metadata": {},
     "output_type": "execute_result"
    }
   ],
   "source": [
    "price = stock_data[[\"Open\", \"High\", \"Low\", \"Close\"]]\n",
    "price"
   ]
  },
  {
   "cell_type": "code",
   "execution_count": 77,
   "metadata": {},
   "outputs": [
    {
     "data": {
      "text/plain": [
       "array([[-0.94899391, -0.94884358, -0.94844388, -0.94863261],\n",
       "       [-0.95295751, -0.95313783, -0.95280073, -0.95297352],\n",
       "       [-0.95877273, -0.95893076, -0.95860987, -0.95876139],\n",
       "       ...,\n",
       "       [-0.54499559, -0.54233014, -0.55287044, -0.55450731],\n",
       "       [-0.54592139, -0.53316521, -0.54851359, -0.53184778],\n",
       "       [-0.52969087, -0.52725701, -0.54711939, -0.54466792]])"
      ]
     },
     "execution_count": 77,
     "metadata": {},
     "output_type": "execute_result"
    }
   ],
   "source": [
    "scaler = MinMaxScaler(feature_range=(-1,1))\n",
    "price_scaled = scaler.fit_transform(price.values)\n",
    "price_scaled"
   ]
  },
  {
   "cell_type": "code",
   "execution_count": 78,
   "metadata": {},
   "outputs": [
    {
     "name": "stdout",
     "output_type": "stream",
     "text": [
      "Length:  9400\n",
      "Size of data:  9393\n",
      "train size:  9373\n",
      "test size:  20\n"
     ]
    }
   ],
   "source": [
    "train_window = 7\n",
    "def create_in_out_seq(price, tw):\n",
    "    inout_seq = []\n",
    "    L = len(price)\n",
    "    print(\"Length: \", L)\n",
    "\n",
    "    for i in range(L-tw):\n",
    "        data_seq = price[i:i+tw]\n",
    "        data_label = price[i+tw:i+tw+1][0][3]\n",
    "        inout_seq.append((data_seq, data_label))\n",
    "\n",
    "    data = inout_seq\n",
    "    print('Size of data: ', len(data))\n",
    "\n",
    "    test_size = 20\n",
    "    train_size = len(data) - (test_size)\n",
    "    print(\"train size: \", train_size)\n",
    "    print(\"test size: \", test_size)\n",
    "\n",
    "    train = data[:train_size]\n",
    "    test = data[train_size:]\n",
    "    train = train[:-(tw-1)]\n",
    "    return train, test\n",
    "\n",
    "train, test = create_in_out_seq(price_scaled, train_window)"
   ]
  },
  {
   "cell_type": "code",
   "execution_count": 79,
   "metadata": {},
   "outputs": [
    {
     "name": "stdout",
     "output_type": "stream",
     "text": [
      "(array([[-0.53350981, -0.52820808, -0.53303223, -0.53283172],\n",
      "       [-0.53440669, -0.52982203, -0.53404883, -0.5345102 ],\n",
      "       [-0.53215004, -0.53022552, -0.5352397 , -0.53676747],\n",
      "       [-0.53512997, -0.53071547, -0.5332065 , -0.53233975],\n",
      "       [-0.5297198 , -0.52581598, -0.52789114, -0.52378816],\n",
      "       [-0.52196618, -0.51503711, -0.52013593, -0.51390537],\n",
      "       [-0.51401004, -0.51189567, -0.51447202, -0.51558385]]), -0.5163652148748373)\n",
      "(array([[-0.53440669, -0.52982203, -0.53404883, -0.5345102 ],\n",
      "       [-0.53215004, -0.53022552, -0.5352397 , -0.53676747],\n",
      "       [-0.53512997, -0.53071547, -0.5332065 , -0.53233975],\n",
      "       [-0.5297198 , -0.52581598, -0.52789114, -0.52378816],\n",
      "       [-0.52196618, -0.51503711, -0.52013593, -0.51390537],\n",
      "       [-0.51401004, -0.51189567, -0.51447202, -0.51558385],\n",
      "       [-0.51354714, -0.51150659, -0.51479152, -0.51636521]]), -0.525394298943713)\n"
     ]
    }
   ],
   "source": [
    "print(test[0])\n",
    "print(test[1])"
   ]
  },
  {
   "cell_type": "code",
   "execution_count": 80,
   "metadata": {},
   "outputs": [],
   "source": [
    "class LSTM(nn.Module):\n",
    "    def __init__(self, input_size=4, hidden_size=100, output_size=1):\n",
    "        super().__init__()\n",
    "        self.hidden_size = hidden_size\n",
    "        self.lstm= nn.LSTM(input_size, hidden_size)\n",
    "        self.linear = nn.Linear(hidden_size, output_size)\n",
    "\n",
    "    def forward(self, input_seq):\n",
    "        hidden_cell = (torch.zeros(1,1,self.hidden_size),\n",
    "                       torch.zeros(1,1, self.hidden_size),\n",
    "                       )\n",
    "        \n",
    "        lstm_out, hidden_cell = self.lstm(input_seq.view(len(input_seq), 1,-1),hidden_cell)\n",
    "        prediction = self.linear(lstm_out.view(len(input_seq), -1))\n",
    "        return prediction[-1]"
   ]
  },
  {
   "cell_type": "code",
   "execution_count": 81,
   "metadata": {},
   "outputs": [],
   "source": [
    "model = LSTM()\n",
    "loss_ = nn.MSELoss() \n",
    "optimizer = torch.optim.Adam(model.parameters(), lr=0.001)"
   ]
  },
  {
   "cell_type": "code",
   "execution_count": 82,
   "metadata": {},
   "outputs": [
    {
     "data": {
      "application/vnd.jupyter.widget-view+json": {
       "model_id": "122d001869ba47319777cfd58f33f158",
       "version_major": 2,
       "version_minor": 0
      },
      "text/plain": [
       "  0%|          | 0/5 [00:00<?, ?it/s]"
      ]
     },
     "metadata": {},
     "output_type": "display_data"
    },
    {
     "data": {
      "application/vnd.jupyter.widget-view+json": {
       "model_id": "c6726a0d799f459a98ab04ee3c11a4d5",
       "version_major": 2,
       "version_minor": 0
      },
      "text/plain": [
       "  0%|          | 0/9367 [00:00<?, ?it/s]"
      ]
     },
     "metadata": {},
     "output_type": "display_data"
    },
    {
     "name": "stdout",
     "output_type": "stream",
     "text": [
      "Epoch:   0, Loss: 0.0016917319\n"
     ]
    },
    {
     "data": {
      "application/vnd.jupyter.widget-view+json": {
       "model_id": "6f3add0e0a8348a681cd84f78d9ee739",
       "version_major": 2,
       "version_minor": 0
      },
      "text/plain": [
       "  0%|          | 0/9367 [00:00<?, ?it/s]"
      ]
     },
     "metadata": {},
     "output_type": "display_data"
    },
    {
     "name": "stdout",
     "output_type": "stream",
     "text": [
      "Epoch:   1, Loss: 0.0008918128\n"
     ]
    },
    {
     "data": {
      "application/vnd.jupyter.widget-view+json": {
       "model_id": "9f7d001e4b3a456e8ab0f8d15ce75353",
       "version_major": 2,
       "version_minor": 0
      },
      "text/plain": [
       "  0%|          | 0/9367 [00:00<?, ?it/s]"
      ]
     },
     "metadata": {},
     "output_type": "display_data"
    },
    {
     "name": "stdout",
     "output_type": "stream",
     "text": [
      "Epoch:   2, Loss: 0.0009484789\n"
     ]
    },
    {
     "data": {
      "application/vnd.jupyter.widget-view+json": {
       "model_id": "ef05ac8f33b643e0a46bd5ab4c6436ca",
       "version_major": 2,
       "version_minor": 0
      },
      "text/plain": [
       "  0%|          | 0/9367 [00:00<?, ?it/s]"
      ]
     },
     "metadata": {},
     "output_type": "display_data"
    },
    {
     "name": "stdout",
     "output_type": "stream",
     "text": [
      "Epoch:   3, Loss: 0.0009051524\n"
     ]
    },
    {
     "data": {
      "application/vnd.jupyter.widget-view+json": {
       "model_id": "21aabfd45ead4a7f826ec9492f3fe97c",
       "version_major": 2,
       "version_minor": 0
      },
      "text/plain": [
       "  0%|          | 0/9367 [00:00<?, ?it/s]"
      ]
     },
     "metadata": {},
     "output_type": "display_data"
    },
    {
     "name": "stdout",
     "output_type": "stream",
     "text": [
      "Epoch:   4, Loss: 0.0008398964\n"
     ]
    }
   ],
   "source": [
    "from tqdm.notebook import tqdm\n",
    "\n",
    "epochs = 5\n",
    "for i in tqdm(range(epochs)):\n",
    "    epoch_loss = 0\n",
    "    for seq, labels in tqdm(train):\n",
    "        seq = torch.from_numpy(np.array(seq)).type(torch.FloatTensor)\n",
    "        labels = torch.from_numpy(np.array(labels)).type(torch.FloatTensor)\n",
    "\n",
    "        optimizer.zero_grad()\n",
    "\n",
    "        y_pred = model(seq) \n",
    "\n",
    "        labels = labels.view(1)\n",
    "\n",
    "        single_loss = loss_(y_pred, labels)\n",
    "        single_loss.backward()\n",
    "        optimizer.step()\n",
    "\n",
    "        epoch_loss += single_loss.item()\n",
    "\n",
    "    avg_loss = epoch_loss / len(train)\n",
    "    print(f\"Epoch: {i:3}, Loss: {avg_loss:.10f}\")"
   ]
  },
  {
   "cell_type": "code",
   "execution_count": 83,
   "metadata": {},
   "outputs": [],
   "source": [
    "model.eval()\n",
    "actual, predict = [],[]\n",
    "\n",
    "for seq,labels in test:\n",
    "    seq = torch.from_numpy(np.array(seq)).type(torch.FloatTensor)\n",
    "    labels = torch.from_numpy(np.array(labels)).type(torch.FloatTensor)\n",
    "    actual.append(labels.item())\n",
    "    with torch.no_grad():\n",
    "        predict.append(model(seq).item())\n",
    "\n",
    "actual = np.array(actual)\n",
    "predict = np.array(predict)"
   ]
  },
  {
   "cell_type": "code",
   "execution_count": 84,
   "metadata": {},
   "outputs": [],
   "source": [
    "pred = torch.from_numpy(np.array(predict)).type(torch.Tensor)\n",
    "actual = torch.from_numpy(np.array(actual)).type(torch.Tensor)"
   ]
  },
  {
   "cell_type": "code",
   "execution_count": 85,
   "metadata": {},
   "outputs": [
    {
     "name": "stdout",
     "output_type": "stream",
     "text": [
      "tensor([-0.5164, -0.5254, -0.5219, -0.5201, -0.5206, -0.5253, -0.5198, -0.5110,\n",
      "        -0.5059, -0.5110, -0.5154, -0.5148, -0.5167, -0.5245, -0.5247, -0.5362,\n",
      "        -0.5432, -0.5545, -0.5318, -0.5447])\n",
      "tensor([-0.5406, -0.5407, -0.5443, -0.5455, -0.5433, -0.5425, -0.5455, -0.5431,\n",
      "        -0.5403, -0.5377, -0.5383, -0.5407, -0.5405, -0.5415, -0.5446, -0.5441,\n",
      "        -0.5479, -0.5507, -0.5542, -0.5490])\n"
     ]
    }
   ],
   "source": [
    "print(actual)\n",
    "print(pred)"
   ]
  },
  {
   "cell_type": "code",
   "execution_count": 86,
   "metadata": {},
   "outputs": [
    {
     "data": {
      "text/plain": [
       "array([[356.765     , 358.095     , 355.285     , 169.74797617],\n",
       "       [356.765     , 358.095     , 355.285     , 169.72202472],\n",
       "       [356.765     , 358.095     , 355.285     , 168.47001167],\n",
       "       [356.765     , 358.095     , 355.285     , 168.05833113],\n",
       "       [356.765     , 358.095     , 355.285     , 168.80136631],\n",
       "       [356.765     , 358.095     , 355.285     , 169.07371231],\n",
       "       [356.765     , 358.095     , 355.285     , 168.06720817],\n",
       "       [356.765     , 358.095     , 355.285     , 168.87909707],\n",
       "       [356.765     , 358.095     , 355.285     , 169.85997931],\n",
       "       [356.765     , 358.095     , 355.285     , 170.73785903],\n",
       "       [356.765     , 358.095     , 355.285     , 170.52942361],\n",
       "       [356.765     , 358.095     , 355.285     , 169.70200504],\n",
       "       [356.765     , 358.095     , 355.285     , 169.76424731],\n",
       "       [356.765     , 358.095     , 355.285     , 169.45109988],\n",
       "       [356.765     , 358.095     , 355.285     , 168.36599993],\n",
       "       [356.765     , 358.095     , 355.285     , 168.52745499],\n",
       "       [356.765     , 358.095     , 355.285     , 167.22804966],\n",
       "       [356.765     , 358.095     , 355.285     , 166.24401617],\n",
       "       [356.765     , 358.095     , 355.285     , 165.05414241],\n",
       "       [356.765     , 358.095     , 355.285     , 166.83002452]])"
      ]
     },
     "execution_count": 86,
     "metadata": {},
     "output_type": "execute_result"
    }
   ],
   "source": [
    "pred_new = scaler.inverse_transform(np.c_[np.zeros(20), np.zeros(20), np.zeros(20), np.array(pred)])\n",
    "pred_new"
   ]
  },
  {
   "cell_type": "code",
   "execution_count": 87,
   "metadata": {},
   "outputs": [
    {
     "data": {
      "text/plain": [
       "array([[356.765     , 358.095     , 355.285     , 178.11999474],\n",
       "       [356.765     , 358.095     , 355.285     , 174.99999256],\n",
       "       [356.765     , 358.095     , 355.285     , 176.21000958],\n",
       "       [356.765     , 358.095     , 355.285     , 176.81999212],\n",
       "       [356.765     , 358.095     , 355.285     , 176.67000924],\n",
       "       [356.765     , 358.095     , 355.285     , 175.03000149],\n",
       "       [356.765     , 358.095     , 355.285     , 176.94000725],\n",
       "       [356.765     , 358.095     , 355.285     , 179.97999249],\n",
       "       [356.765     , 358.095     , 355.285     , 181.71999569],\n",
       "       [356.765     , 358.095     , 355.285     , 179.97000324],\n",
       "       [356.765     , 358.095     , 355.285     , 178.44000078],\n",
       "       [356.765     , 358.095     , 355.285     , 178.65000152],\n",
       "       [356.765     , 358.095     , 355.285     , 178.0199993 ],\n",
       "       [356.765     , 358.095     , 355.285     , 175.2999995 ],\n",
       "       [356.765     , 358.095     , 355.285     , 175.24000223],\n",
       "       [356.765     , 358.095     , 355.285     , 171.27000783],\n",
       "       [356.765     , 358.095     , 355.285     , 168.84501005],\n",
       "       [356.765     , 358.095     , 355.285     , 164.93999725],\n",
       "       [356.765     , 358.095     , 355.285     , 172.77000135],\n",
       "       [356.765     , 358.095     , 355.285     , 168.34000729]])"
      ]
     },
     "execution_count": 87,
     "metadata": {},
     "output_type": "execute_result"
    }
   ],
   "source": [
    "actual_new = scaler.inverse_transform(np.c_[np.zeros(20), np.zeros(20), np.zeros(20), np.array(actual)])\n",
    "actual_new"
   ]
  },
  {
   "cell_type": "code",
   "execution_count": 88,
   "metadata": {},
   "outputs": [
    {
     "name": "stdout",
     "output_type": "stream",
     "text": [
      "RMSE 3.7512960212442965\n",
      "MAE 1.7221129238978032\n"
     ]
    }
   ],
   "source": [
    "rmse = np.sqrt(mean_squared_error(actual_new, pred_new))\n",
    "print(\"RMSE\", rmse)\n",
    "\n",
    "mae = mean_absolute_error(actual_new, pred_new)\n",
    "print(\"MAE\", mae)"
   ]
  },
  {
   "cell_type": "code",
   "execution_count": 89,
   "metadata": {},
   "outputs": [
    {
     "data": {
      "image/png": "[encoded data removed]",
      "text/plain": [
       "<Figure size 640x480 with 1 Axes>"
      ]
     },
     "metadata": {},
     "output_type": "display_data"
    }
   ],
   "source": [
    "fig, ax = plt.subplots()\n",
    "\n",
    "ax.plot(actual_new[:,3], 'r-', label=\"Actual\")\n",
    "ax.plot(pred_new[:,3], 'c-', label=\"Predicted\")\n",
    "\n",
    "ax.set_ylabel('Stock Value (dollars')\n",
    "\n",
    "ax.set_ylim(min(min(actual_new[:,3]), min(pred_new[:,3])) - 5, max(max(actual_new[:,3]), max(pred_new[:,3])) + 5)\n",
    "plt.xticks([])\n",
    "    \n",
    "ax.legend(loc='upper left')\n",
    "\n",
    "plt.show()"
   ]
  },
  {
   "cell_type": "code",
   "execution_count": 90,
   "metadata": {},
   "outputs": [
    {
     "data": {
      "image/png": "[encoded data removed]",
      "text/plain": [
       "<Figure size 640x480 with 1 Axes>"
      ]
     },
     "metadata": {},
     "output_type": "display_data"
    }
   ],
   "source": [
    "difference = actual_new - pred_new\n",
    "\n",
    "fig = plt.figure()\n",
    "diffGraph = fig.add_axes([0,0,1,1])\n",
    "diffGraph.plot(difference[:,3], 'b')\n",
    "diffGraph.set_ylabel('Difference between predicted and actual stock value')\n",
    "plt.xticks()\n",
    "plt.show()"
   ]
  },
  {
   "cell_type": "code",
   "execution_count": null,
   "metadata": {},
   "outputs": [],
   "source": []
  },
  {
   "cell_type": "code",
   "execution_count": 91,
   "metadata": {},
   "outputs": [
    {
     "name": "stdout",
     "output_type": "stream",
     "text": [
      "(7, 4)\n"
     ]
    }
   ],
   "source": [
    "for seq,labels in test:\n",
    "    print(seq.shape)\n",
    "    break"
   ]
  },
  {
   "cell_type": "code",
   "execution_count": null,
   "metadata": {},
   "outputs": [],
   "source": []
  }
 ],
 "metadata": {
  "kernelspec": {
   "display_name": "Python 3",
   "language": "python",
   "name": "python3"
  },
  "language_info": {
   "codemirror_mode": {
    "name": "ipython",
    "version": 3
   },
   "file_extension": ".py",
   "mimetype": "text/x-python",
   "name": "python",
   "nbconvert_exporter": "python",
   "pygments_lexer": "ipython3",
   "version": "3.11.0"
  },
  "orig_nbformat": 4,
  "vscode": {
   "interpreter": {
    "hash": "bff555660f20edf410969a7cbd352436805194184a5a3b26f921586e913a8153"
   }
  }
 },
 "nbformat": 4,
 "nbformat_minor": 2
}
